{
 "cells": [
  {
   "cell_type": "markdown",
   "metadata": {},
   "source": [
    "# Data corrected and non-corrected BDLSTM forecast"
   ]
  },
  {
   "cell_type": "code",
   "execution_count": null,
   "metadata": {},
   "outputs": [],
   "source": [
    "start = time.time()\n",
    "lstm_model = generator\n",
    "forecastOrcorrectedForecast = 'forecast'\n",
    "lforecast = 382\n",
    "gridx = 0\n",
    "gridy = 4\n",
    "initimestep=0\n",
    "ini_array = X_all[initimestep, :, :]\n",
    "ini_arrayObs = X_all[initimestep:, :, :]\n",
    "if lforecast > ini_arrayObs.shape[0]:\n",
    "    lforecast = ini_arrayObs.shape[0]\n",
    "forecast = np.empty((0, trun))\n",
    "correctedForecast = np.empty((0, trun))\n",
    "for i in np.arange(lforecast):\n",
    "    atemp = np.squeeze(lstm_model.predict([np.expand_dims(ini_array, axis=0), np.expand_dims(ini_array, axis=0)]))\n",
    "    a = np.vstack((ini_array, atemp))\n",
    "    #ini_arrayObs = np.vstack((ini_array, atemp))\n",
    "    b = ini_arrayObs[i, :, :]\n",
    "\n",
    "    forecast = np.append(forecast, np.expand_dims(atemp, 0), axis=0)\n",
    "    if forecastOrcorrectedForecast == 'forecast':\n",
    "        prediction = forecast\n",
    "        ini_array = np.vstack((ini_array[1:, :], forecast[-1]))\n",
    "        #print(ini_array.shape)\n",
    "    #Optimal Interpolation\n",
    "    else:\n",
    "        amean = np.mean(a, axis=1)\n",
    "        aamean = a - np.transpose([amean])\n",
    "        bmean = np.mean(b, axis=1)\n",
    "        bbmean = b - np.transpose([bmean])\n",
    "        C = np.matmul(aamean, np.transpose(aamean))\n",
    "        Cmd = np.matmul(bbmean, np.transpose(aamean))\n",
    "        # Cmd = 10000\n",
    "        Cinv = np.linalg.inv(C)\n",
    "        # Cinv = 1/C\n",
    "        w = np.matmul(Cinv, aamean)\n",
    "        Dhat = np.transpose([bmean]) + np.matmul(Cmd, w)\n",
    "\n",
    "        tempDA = Dhat[-1, :]\n",
    "        correctedForecast = np.append(correctedForecast, np.expand_dims(tempDA, 0), axis=0)\n",
    "        prediction = correctedForecast\n",
    "        ini_array = np.vstack((ini_array[1:, :], tempDA))\n",
    "\n",
    "print(time.time() - start)"
   ]
  },
  {
   "cell_type": "code",
   "execution_count": null,
   "metadata": {},
   "outputs": [],
   "source": [
    "prediction = inverseScalerThetis(prediction, min_ls, max_ls, min, max)\n",
    "prediction = np.vstack((pcs_stag[look_backX+initimestep, :15], prediction))"
   ]
  },
  {
   "cell_type": "code",
   "execution_count": null,
   "metadata": {},
   "outputs": [],
   "source": [
    "prediction_masked = np.zeros((prediction.shape[0], csv2.shape[1]))\n",
    "trun_dataL = np.matmul(prediction, eofs_trun)\n",
    "sStrunL = trun_dataL[:, 20*0:20*1]*sSsigma + sSmean\n",
    "sEtrunL = trun_dataL[:, 20*1:20*2]*sEsigma + sEmean\n",
    "sItrunL = trun_dataL[:, 20*2:20*3]*sIsigma + sImean\n",
    "sRtrunL = trun_dataL[:, 20*3:20*4]*sRsigma + sRmean\n",
    "\n",
    "mStrunL = trun_dataL[:, 20*4:20*5]*mSsigma + mSmean\n",
    "mEtrunL = trun_dataL[:, 20*5:20*6]*mEsigma + mEmean\n",
    "mItrunL = trun_dataL[:, 20*6:20*7]*mIsigma + mImean\n",
    "mRtrunL = trun_dataL[:, 20*7:20*8]*mRsigma + mRmean\n",
    "\n",
    "prediction = np.hstack([sStrunL, sEtrunL, sItrunL, sRtrunL, mStrunL, mEtrunL, mItrunL, mRtrunL])\n",
    "for i in range(prediction.shape[0]):\n",
    "    test = np.zeros(csv2.shape[1])\n",
    "    test[np.where(mask == 1)[1]] = prediction[i, :]\n",
    "    prediction_masked[i, :] = test\n",
    "prediction_shaped = np.reshape(prediction_masked,(prediction.shape[0], ngroups, ngridx, ngridy))"
   ]
  },
  {
   "cell_type": "code",
   "execution_count": null,
   "metadata": {},
   "outputs": [],
   "source": []
  }
 ],
 "metadata": {
  "kernelspec": {
   "display_name": "Python 3",
   "language": "python",
   "name": "python3"
  },
  "language_info": {
   "codemirror_mode": {
    "name": "ipython",
    "version": 3
   },
   "file_extension": ".py",
   "mimetype": "text/x-python",
   "name": "python",
   "nbconvert_exporter": "python",
   "pygments_lexer": "ipython3",
   "version": "3.8.3"
  }
 },
 "nbformat": 4,
 "nbformat_minor": 4
}
